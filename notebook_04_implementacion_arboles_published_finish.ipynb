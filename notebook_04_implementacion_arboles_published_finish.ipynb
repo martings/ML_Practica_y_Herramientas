{
  "cells": [
    {
      "cell_type": "markdown",
      "metadata": {
        "id": "view-in-github",
        "colab_type": "text"
      },
      "source": [
        "<a href=\"https://colab.research.google.com/github/martings/ML_Practica_y_Herramientas/blob/main/notebook_04_implementacion_arboles_published_finish.ipynb\" target=\"_parent\"><img src=\"https://colab.research.google.com/assets/colab-badge.svg\" alt=\"Open In Colab\"/></a>"
      ]
    },
    {
      "cell_type": "markdown",
      "metadata": {
        "id": "eN8vfJBAMA7c"
      },
      "source": [
        "[![Open In Colab](https://colab.research.google.com/assets/colab-badge.svg)](https://colab.research.google.com/github/aprendizaje-automatico-dc-uba-ar/material/blob/main/notebooks/notebook_04_implementacion_arboles-published.ipynb)\n",
        "\n",
        "## Árboles de decisión\n",
        "\n",
        "### Metiendonos debajo del capot\n",
        "\n",
        "En esta notebook exploraremos el funcionamiento de un árbol de decisión construido aquí mismo.\n",
        "\n",
        "Para eso contaremos con algunas partes de código resueltas y otras que se deberán completar.\n",
        "\n",
        "El objetivo será comprender la esencia de como se comportan los árboles a medida que le vamos agregando funcionalidad (o introduciendo _bugs_) para entender mejor su funcionamiento."
      ]
    },
    {
      "cell_type": "code",
      "execution_count": 1,
      "metadata": {
        "id": "2_-N9zj7MA7i"
      },
      "outputs": [],
      "source": [
        "# Cargamos bibliotecas necesarias\n",
        "import numpy as np\n",
        "import pandas as pd\n",
        "\n",
        "from collections import Counter\n",
        "import operator\n",
        "from IPython.display import Image, display\n",
        "\n",
        "from graphviz import Digraph\n",
        "import pydotplus"
      ]
    },
    {
      "cell_type": "markdown",
      "metadata": {
        "id": "4HjoGix-MA7l"
      },
      "source": [
        "La clase Árbol la definiremos a continuación. Consta de:\n",
        "\n",
        "   - un constructor\n",
        "   - el método `fit` para entrenarlo (a modo de sklearn)\n",
        "   - el método `predict` para dada una instancia predecir su etiqueta\n",
        "   - el método `score` no se encuentra implementar aún\n",
        "   - métodos para visualizar y explorar el árbol"
      ]
    },
    {
      "cell_type": "code",
      "execution_count": 39,
      "metadata": {
        "id": "uLJARGX_MA7n"
      },
      "outputs": [],
      "source": [
        "# Definición de la clase árbol\n",
        "\n",
        "class Tree:\n",
        "    def __init__(self, decision=None, left=None, right=None, labels=None):\n",
        "        self.decision = decision\n",
        "        self.left = left\n",
        "        self.right = right\n",
        "        \n",
        "        self.data = Counter(labels) if labels is not None else None\n",
        "\n",
        "        \n",
        "    def fit(self, instancias, etiquetas):\n",
        "        # ALGORITMO RECURSIVO para construcción de un árbol de decisión binario. \n",
        "        \n",
        "        # Suponemos que estamos parados en la raiz del árbol y tenemos que decidir cómo construirlo. \n",
        "        gain, decision = encontrar_mejor_atributo_y_corte(instancias, etiquetas)\n",
        "        \n",
        "        # Criterio de corte: ¿Hay ganancia?\n",
        "        if gain <= 0:\n",
        "            #  Si no hay ganancia en separar, no separamos. \n",
        "            self.data = Counter(etiquetas)\n",
        "        else: \n",
        "            # Si hay ganancia en partir el conjunto en 2\n",
        "            (instancias_cumplen, etiquetas_cumplen, \n",
        "                 instancias_no_cumplen, \n",
        "                 etiquetas_no_cumplen) = partir_segun(decision, instancias, etiquetas)\n",
        "            # partir devuelve instancias y etiquetas que caen en cada rama (izquierda y derecha)\n",
        "\n",
        "            # Paso recursivo (consultar con el computadorX más cercano)\n",
        "            sub_arbol_izquierdo = Tree() \n",
        "            sub_arbol_izquierdo.fit(instancias_cumplen, etiquetas_cumplen)\n",
        "            sub_arbol_derecho   = Tree()\n",
        "            sub_arbol_derecho.fit(instancias_no_cumplen, etiquetas_no_cumplen)\n",
        "            # los pasos anteriores crean todo lo que necesitemos de sub-árbol izquierdo y sub-árbol derecho\n",
        "\n",
        "            self.decision = decision\n",
        "            self.left = sub_arbol_izquierdo\n",
        "            self.right = sub_arbol_derecho\n",
        "            self.data = Counter(etiquetas) \n",
        "        \n",
        "    def predict(self, x_t):\n",
        "        if self.decision is None:\n",
        "            if self.data[\"Si\"] > self.data[\"No\"]:\n",
        "                return \"Si\"\n",
        "            else:\n",
        "                return \"No\"\n",
        "        else:\n",
        "            if self.decision.test(x_t):\n",
        "                return self.left.predict(x_t)\n",
        "            else:\n",
        "                return self.right.predict(x_t)\n",
        "\n",
        "    from sklearn.metrics import accuracy_score\n",
        "    def score(self, X_test, y_test):\n",
        "        return accuracy_score(y_test, self.predict(X_test))\n",
        "        \n",
        "    \n",
        "    def __repr__(self):\n",
        "        return self._imprimir_arbol()\n",
        " \n",
        "    def _imprimir_arbol(self, spacing=\"\"):\n",
        "        res = []\n",
        "        if self.decision is None:\n",
        "            res.append(spacing + f\"Hoja: {dict(self.data)}\")\n",
        "        else:\n",
        "            res.append(spacing + f\"{str(self.decision)} - {dict(self.data)}\")\n",
        "\n",
        "        if self.left is not None:\n",
        "            res.append(spacing + '--> True:')\n",
        "            res.append(self.left._imprimir_arbol(spacing + \"  \"))\n",
        "            \n",
        "        if self.right is not None:\n",
        "            res.append(spacing + '--> False:')\n",
        "            res.append(self.right._imprimir_arbol(spacing + \"  \"))\n",
        "            \n",
        "        return \"\\n\".join(res)\n",
        "    \n",
        "    def render(self):\n",
        "        dot = Digraph()\n",
        "        \n",
        "        self.dot_tree_aux(self, dot, prefix=\"\")\n",
        "        \n",
        "        return dot\n",
        "        \n",
        "    def dot_tree_aux(self, subtree, dot, prefix):\n",
        "        label = [f\"{subtree.decision.feature}: {subtree.decision.value}\" if subtree.decision is not None else \"\",\n",
        "                f\"n={sum(subtree.data.values())}\",\n",
        "                str(dict(subtree.data))]\n",
        "        label= \"\\n\".join(label)\n",
        "        col = \"#029E3980\" if subtree.data.most_common(1)[0][0]==\"Si\" else \"#EA080080\"\n",
        "        dot.node(prefix + \"n\", label=label, shape=\"box\", fillcolor=col, style=\"filled\")\n",
        "        \n",
        "        if subtree.left:\n",
        "            self.dot_tree_aux(subtree.left, dot, prefix + \"l\")\n",
        "            dot.edge(prefix + \"n\", prefix + \"ln\", label=\"True\")\n",
        "            \n",
        "        if subtree.right:\n",
        "            self.dot_tree_aux(subtree.right, dot, prefix + \"r\")\n",
        "            dot.edge(prefix + \"n\", prefix + \"rn\", label=\"False\")\n",
        "\n",
        "    "
      ]
    },
    {
      "cell_type": "markdown",
      "metadata": {
        "id": "a1vSoWXkMA7r"
      },
      "source": [
        "Para la decisiones en cada nodo tendremos la siguiente clase. Actualmente funciona comparando por igualdad, pero podría ser extendida en el futuro."
      ]
    },
    {
      "cell_type": "code",
      "execution_count": 42,
      "metadata": {
        "id": "sIeDmEaqMA7r"
      },
      "outputs": [],
      "source": [
        "class Decision:\n",
        "    def __init__(self, feature, value, test_function=operator.eq):\n",
        "        self.feature = feature\n",
        "        self.value = value\n",
        "        self.test_function = test_function\n",
        "    \n",
        "    def test(self, x):\n",
        "        # Devuelve verdadero si la instancia cumple con la pregunta\n",
        "        return self.test_function(self.value, x[self.feature])\n",
        "    \n",
        "    def __repr__(self):\n",
        "        return \"¿Es el valor para {} igual a {}?\".format(self.feature, self.value)"
      ]
    },
    {
      "cell_type": "markdown",
      "metadata": {
        "id": "NMqit1YUMA7t"
      },
      "source": [
        "## Funciones a completar\n",
        "\n",
        "Primero definir la función `gini`, que dado unas etiquetas dan el grado de impureza (ver definición en la teórica)."
      ]
    },
    {
      "cell_type": "code",
      "execution_count": 4,
      "metadata": {
        "colab": {
          "base_uri": "https://localhost:8080/"
        },
        "id": "DVtvkVEcMA7u",
        "outputId": "ffc7ea18-38e2-4227-fe24-de54757de235"
      },
      "outputs": [
        {
          "output_type": "stream",
          "name": "stdout",
          "text": [
            "{'circulo': 2, 'cruz': 3}\n"
          ]
        }
      ],
      "source": [
        "def count_label(labels):\n",
        "    count = {}\n",
        "    for label in labels:\n",
        "        if label in count:\n",
        "            count[label] += 1\n",
        "        else:\n",
        "            count[label] = 1\n",
        "    return count\n",
        "\n",
        "labels = [\"circulo\", \"cruz\", \"circulo\", \"cruz\", \"cruz\"]\n",
        "print(count_label(labels)) # output: {'circulo': 2, 'cruz': 3}\n",
        "\n",
        "def gini(etiquetas):\n",
        "  label_counts = count_label(etiquetas)\n",
        "  # Devuelve un dict de label → cuenta. Ej {“circulo” : 10, “cruz”: 20}\n",
        "  n = len(etiquetas)\n",
        "  res = 1\n",
        "  for label, count in label_counts.items():\n",
        "    label_prob = count / n\n",
        "    impureza -= label_prob ** 2\n",
        "  return impureza\n",
        "\n",
        "\n",
        "\n"
      ]
    },
    {
      "cell_type": "markdown",
      "metadata": {
        "id": "aiaFfLR9MA7v"
      },
      "source": [
        "Definir la función `ganancia_gini` que dadas ciertas instancias y una posible separación entre dos ramas nos de la mejora que obtendremos al separar de esta manera."
      ]
    },
    {
      "cell_type": "code",
      "execution_count": 5,
      "metadata": {
        "id": "4zalV4VGMA7w"
      },
      "outputs": [],
      "source": [
        "def ganancia_gini(instancias, etiquetas_rama_izquierda, etiquetas_rama_derecha):\n",
        "    impureza_inicial = gini([instancia[-1] for instancia in instancias])\n",
        "    n = len(instancias)\n",
        "    n_izquierda = len(etiquetas_rama_izquierda)\n",
        "    n_derecha = len(etiquetas_rama_derecha)\n",
        "    \n",
        "    impureza_izquierda = gini(etiquetas_rama_izquierda)\n",
        "    impureza_derecha = gini(etiquetas_rama_derecha)\n",
        "    \n",
        "    ganancia = impureza_inicial - ((n_izquierda / n) * impureza_izquierda + (n_derecha / n) * impureza_derecha)\n",
        "    \n",
        "    return ganancia\n"
      ]
    },
    {
      "cell_type": "markdown",
      "metadata": {
        "id": "wiEBwZbjMA7x"
      },
      "source": [
        "Definir `partir_segun` que debe separar instancias y etiquetas según si cada instancia cumple o no con condición (ver método `test` de la clase `Decision`).\n",
        "\n",
        "Para este punto se recomienda la utilizacion de máscaras de pandas (ver Notebook 01 - Herramientas)\n"
      ]
    },
    {
      "cell_type": "code",
      "source": [
        "#Alternativa\n",
        "def partir_segun(pregunta, instancias, etiquetas):\n",
        "    # Esta función debe separar instancias y etiquetas según si cada instancia cumple o no\n",
        "    # con la pregunta dada.\n",
        "    instancias_cumplen = []\n",
        "    etiquetas_cumplen = []\n",
        "    instancias_no_cumplen = []\n",
        "    etiquetas_no_cumplen = []\n",
        "    \n",
        "    for i in range(len(instancias)):\n",
        "        instancia = instancias.iloc[i]\n",
        "        etiqueta = etiquetas[i]\n",
        "        if Decision(instancia, etiqueta):\n",
        "            instancias_cumplen.append(instancia)\n",
        "            etiquetas_cumplen.append(etiqueta)\n",
        "        else:\n",
        "            instancias_no_cumplen.append(instancia)\n",
        "            etiquetas_no_cumplen.append(etiqueta)\n",
        "    \n",
        "    instancias_cumplen = pd.DataFrame(instancias_cumplen, columns=instancias.columns)\n",
        "    instancias_no_cumplen = pd.DataFrame(instancias_no_cumplen, columns=instancias.columns)\n",
        "    \n",
        "    return instancias_cumplen, etiquetas_cumplen, instancias_no_cumplen, etiquetas_no_cumplen"
      ],
      "metadata": {
        "id": "dkJd8tnfaPqL"
      },
      "execution_count": 43,
      "outputs": []
    },
    {
      "cell_type": "markdown",
      "metadata": {
        "id": "XCKKBGRnMA7y"
      },
      "source": [
        "A continuación se propone una implementación para poder encontrar el mejor atributo y corte posible."
      ]
    },
    {
      "cell_type": "code",
      "execution_count": 37,
      "metadata": {
        "id": "rwqx5rsqMA7z"
      },
      "outputs": [],
      "source": [
        "def encontrar_mejor_atributo_y_corte(instancias, etiquetas):\n",
        "    # Implementación Gini Gain. \n",
        "    max_ganancia = 0\n",
        "    mejor_pregunta = None\n",
        "    for columna in instancias.columns:\n",
        "        for valor in set(instancias[columna]):\n",
        "            # Probando corte para atributo y valor\n",
        "            pregunta = Decision(columna, valor)\n",
        "            _, etiquetas_rama_izquierda, _, etiquetas_rama_derecha = partir_segun(pregunta, instancias, etiquetas)\n",
        "            if len(etiquetas_rama_izquierda) == 0 or len(etiquetas_rama_derecha) == 0:\n",
        "                continue\n",
        "\n",
        "            ganancia = ganancia_gini(etiquetas_rama_izquierda, etiquetas_rama_derecha)\n",
        "            \n",
        "            if ganancia > max_ganancia:\n",
        "                max_ganancia = ganancia\n",
        "                mejor_pregunta = pregunta\n",
        "            \n",
        "    return max_ganancia, mejor_pregunta  "
      ]
    },
    {
      "cell_type": "markdown",
      "metadata": {
        "id": "c3StLk-YMA70"
      },
      "source": [
        "Dado el siguiente dataset (el mismo que visto en clase):"
      ]
    },
    {
      "cell_type": "code",
      "execution_count": 26,
      "metadata": {
        "colab": {
          "base_uri": "https://localhost:8080/",
          "height": 524
        },
        "id": "8DKLPEzVMA70",
        "outputId": "d5d64201-5309-45c8-f918-894d3eb6664d"
      },
      "outputs": [
        {
          "output_type": "display_data",
          "data": {
            "text/plain": [
              "      Cielo Temperatura Humedad  Viento\n",
              "0       Sol       Calor    Alta   Debil\n",
              "1       Sol       Calor    Alta  Fuerte\n",
              "2   Nublado       Calor    Alta   Debil\n",
              "3    Lluvia    Templado    Alta   Debil\n",
              "4    Lluvia        Frio  Normal   Debil\n",
              "5    Lluvia        Frio  Normal  Fuerte\n",
              "6   Nublado        Frio  Normal  Fuerte\n",
              "7       Sol    Templado    Alta   Debil\n",
              "8       Sol        Frio  Normal   Debil\n",
              "9    Lluvia    Templado  Normal   Debil\n",
              "10      Sol    Templado  Normal  Fuerte\n",
              "11  Nublado    Templado    Alta  Fuerte\n",
              "12  Nublado       Calor  Normal   Debil\n",
              "13   Lluvia    Templado    Alta  Fuerte"
            ],
            "text/html": [
              "\n",
              "  <div id=\"df-0e4d4d8d-f0a1-408a-8e46-760199009170\">\n",
              "    <div class=\"colab-df-container\">\n",
              "      <div>\n",
              "<style scoped>\n",
              "    .dataframe tbody tr th:only-of-type {\n",
              "        vertical-align: middle;\n",
              "    }\n",
              "\n",
              "    .dataframe tbody tr th {\n",
              "        vertical-align: top;\n",
              "    }\n",
              "\n",
              "    .dataframe thead th {\n",
              "        text-align: right;\n",
              "    }\n",
              "</style>\n",
              "<table border=\"1\" class=\"dataframe\">\n",
              "  <thead>\n",
              "    <tr style=\"text-align: right;\">\n",
              "      <th></th>\n",
              "      <th>Cielo</th>\n",
              "      <th>Temperatura</th>\n",
              "      <th>Humedad</th>\n",
              "      <th>Viento</th>\n",
              "    </tr>\n",
              "  </thead>\n",
              "  <tbody>\n",
              "    <tr>\n",
              "      <th>0</th>\n",
              "      <td>Sol</td>\n",
              "      <td>Calor</td>\n",
              "      <td>Alta</td>\n",
              "      <td>Debil</td>\n",
              "    </tr>\n",
              "    <tr>\n",
              "      <th>1</th>\n",
              "      <td>Sol</td>\n",
              "      <td>Calor</td>\n",
              "      <td>Alta</td>\n",
              "      <td>Fuerte</td>\n",
              "    </tr>\n",
              "    <tr>\n",
              "      <th>2</th>\n",
              "      <td>Nublado</td>\n",
              "      <td>Calor</td>\n",
              "      <td>Alta</td>\n",
              "      <td>Debil</td>\n",
              "    </tr>\n",
              "    <tr>\n",
              "      <th>3</th>\n",
              "      <td>Lluvia</td>\n",
              "      <td>Templado</td>\n",
              "      <td>Alta</td>\n",
              "      <td>Debil</td>\n",
              "    </tr>\n",
              "    <tr>\n",
              "      <th>4</th>\n",
              "      <td>Lluvia</td>\n",
              "      <td>Frio</td>\n",
              "      <td>Normal</td>\n",
              "      <td>Debil</td>\n",
              "    </tr>\n",
              "    <tr>\n",
              "      <th>5</th>\n",
              "      <td>Lluvia</td>\n",
              "      <td>Frio</td>\n",
              "      <td>Normal</td>\n",
              "      <td>Fuerte</td>\n",
              "    </tr>\n",
              "    <tr>\n",
              "      <th>6</th>\n",
              "      <td>Nublado</td>\n",
              "      <td>Frio</td>\n",
              "      <td>Normal</td>\n",
              "      <td>Fuerte</td>\n",
              "    </tr>\n",
              "    <tr>\n",
              "      <th>7</th>\n",
              "      <td>Sol</td>\n",
              "      <td>Templado</td>\n",
              "      <td>Alta</td>\n",
              "      <td>Debil</td>\n",
              "    </tr>\n",
              "    <tr>\n",
              "      <th>8</th>\n",
              "      <td>Sol</td>\n",
              "      <td>Frio</td>\n",
              "      <td>Normal</td>\n",
              "      <td>Debil</td>\n",
              "    </tr>\n",
              "    <tr>\n",
              "      <th>9</th>\n",
              "      <td>Lluvia</td>\n",
              "      <td>Templado</td>\n",
              "      <td>Normal</td>\n",
              "      <td>Debil</td>\n",
              "    </tr>\n",
              "    <tr>\n",
              "      <th>10</th>\n",
              "      <td>Sol</td>\n",
              "      <td>Templado</td>\n",
              "      <td>Normal</td>\n",
              "      <td>Fuerte</td>\n",
              "    </tr>\n",
              "    <tr>\n",
              "      <th>11</th>\n",
              "      <td>Nublado</td>\n",
              "      <td>Templado</td>\n",
              "      <td>Alta</td>\n",
              "      <td>Fuerte</td>\n",
              "    </tr>\n",
              "    <tr>\n",
              "      <th>12</th>\n",
              "      <td>Nublado</td>\n",
              "      <td>Calor</td>\n",
              "      <td>Normal</td>\n",
              "      <td>Debil</td>\n",
              "    </tr>\n",
              "    <tr>\n",
              "      <th>13</th>\n",
              "      <td>Lluvia</td>\n",
              "      <td>Templado</td>\n",
              "      <td>Alta</td>\n",
              "      <td>Fuerte</td>\n",
              "    </tr>\n",
              "  </tbody>\n",
              "</table>\n",
              "</div>\n",
              "      <button class=\"colab-df-convert\" onclick=\"convertToInteractive('df-0e4d4d8d-f0a1-408a-8e46-760199009170')\"\n",
              "              title=\"Convert this dataframe to an interactive table.\"\n",
              "              style=\"display:none;\">\n",
              "        \n",
              "  <svg xmlns=\"http://www.w3.org/2000/svg\" height=\"24px\"viewBox=\"0 0 24 24\"\n",
              "       width=\"24px\">\n",
              "    <path d=\"M0 0h24v24H0V0z\" fill=\"none\"/>\n",
              "    <path d=\"M18.56 5.44l.94 2.06.94-2.06 2.06-.94-2.06-.94-.94-2.06-.94 2.06-2.06.94zm-11 1L8.5 8.5l.94-2.06 2.06-.94-2.06-.94L8.5 2.5l-.94 2.06-2.06.94zm10 10l.94 2.06.94-2.06 2.06-.94-2.06-.94-.94-2.06-.94 2.06-2.06.94z\"/><path d=\"M17.41 7.96l-1.37-1.37c-.4-.4-.92-.59-1.43-.59-.52 0-1.04.2-1.43.59L10.3 9.45l-7.72 7.72c-.78.78-.78 2.05 0 2.83L4 21.41c.39.39.9.59 1.41.59.51 0 1.02-.2 1.41-.59l7.78-7.78 2.81-2.81c.8-.78.8-2.07 0-2.86zM5.41 20L4 18.59l7.72-7.72 1.47 1.35L5.41 20z\"/>\n",
              "  </svg>\n",
              "      </button>\n",
              "      \n",
              "  <style>\n",
              "    .colab-df-container {\n",
              "      display:flex;\n",
              "      flex-wrap:wrap;\n",
              "      gap: 12px;\n",
              "    }\n",
              "\n",
              "    .colab-df-convert {\n",
              "      background-color: #E8F0FE;\n",
              "      border: none;\n",
              "      border-radius: 50%;\n",
              "      cursor: pointer;\n",
              "      display: none;\n",
              "      fill: #1967D2;\n",
              "      height: 32px;\n",
              "      padding: 0 0 0 0;\n",
              "      width: 32px;\n",
              "    }\n",
              "\n",
              "    .colab-df-convert:hover {\n",
              "      background-color: #E2EBFA;\n",
              "      box-shadow: 0px 1px 2px rgba(60, 64, 67, 0.3), 0px 1px 3px 1px rgba(60, 64, 67, 0.15);\n",
              "      fill: #174EA6;\n",
              "    }\n",
              "\n",
              "    [theme=dark] .colab-df-convert {\n",
              "      background-color: #3B4455;\n",
              "      fill: #D2E3FC;\n",
              "    }\n",
              "\n",
              "    [theme=dark] .colab-df-convert:hover {\n",
              "      background-color: #434B5C;\n",
              "      box-shadow: 0px 1px 3px 1px rgba(0, 0, 0, 0.15);\n",
              "      filter: drop-shadow(0px 1px 2px rgba(0, 0, 0, 0.3));\n",
              "      fill: #FFFFFF;\n",
              "    }\n",
              "  </style>\n",
              "\n",
              "      <script>\n",
              "        const buttonEl =\n",
              "          document.querySelector('#df-0e4d4d8d-f0a1-408a-8e46-760199009170 button.colab-df-convert');\n",
              "        buttonEl.style.display =\n",
              "          google.colab.kernel.accessAllowed ? 'block' : 'none';\n",
              "\n",
              "        async function convertToInteractive(key) {\n",
              "          const element = document.querySelector('#df-0e4d4d8d-f0a1-408a-8e46-760199009170');\n",
              "          const dataTable =\n",
              "            await google.colab.kernel.invokeFunction('convertToInteractive',\n",
              "                                                     [key], {});\n",
              "          if (!dataTable) return;\n",
              "\n",
              "          const docLinkHtml = 'Like what you see? Visit the ' +\n",
              "            '<a target=\"_blank\" href=https://colab.research.google.com/notebooks/data_table.ipynb>data table notebook</a>'\n",
              "            + ' to learn more about interactive tables.';\n",
              "          element.innerHTML = '';\n",
              "          dataTable['output_type'] = 'display_data';\n",
              "          await google.colab.output.renderOutput(dataTable, element);\n",
              "          const docLink = document.createElement('div');\n",
              "          docLink.innerHTML = docLinkHtml;\n",
              "          element.appendChild(docLink);\n",
              "        }\n",
              "      </script>\n",
              "    </div>\n",
              "  </div>\n",
              "  "
            ]
          },
          "metadata": {}
        },
        {
          "output_type": "display_data",
          "data": {
            "text/plain": [
              "array(['No', 'No', 'Si', 'Si', 'Si', 'No', 'Si', 'No', 'Si', 'Si', 'Si',\n",
              "       'Si', 'Si', 'No'], dtype='<U2')"
            ]
          },
          "metadata": {}
        }
      ],
      "source": [
        "X = pd.DataFrame([[\"Sol\",\"Calor\",\"Alta\",\"Debil\"],\n",
        "                [\"Sol\",\"Calor\",\"Alta\",\"Fuerte\"],\n",
        "                [\"Nublado\",\"Calor\",\"Alta\",\"Debil\"],\n",
        "                [\"Lluvia\",\"Templado\",\"Alta\",\"Debil\"],\n",
        "                [\"Lluvia\",\"Frio\",\"Normal\",\"Debil\"],\n",
        "                [\"Lluvia\",\"Frio\",\"Normal\",\"Fuerte\"],\n",
        "                [\"Nublado\",\"Frio\",\"Normal\",\"Fuerte\"],\n",
        "                [\"Sol\",\"Templado\",\"Alta\",\"Debil\"],\n",
        "                [\"Sol\",\"Frio\",\"Normal\",\"Debil\"],\n",
        "                [\"Lluvia\",\"Templado\",\"Normal\",\"Debil\"],\n",
        "                [\"Sol\",\"Templado\",\"Normal\",\"Fuerte\"],\n",
        "                [\"Nublado\",\"Templado\",\"Alta\",\"Fuerte\"],\n",
        "                [\"Nublado\",\"Calor\",\"Normal\",\"Debil\"],\n",
        "                [\"Lluvia\",\"Templado\",\"Alta\",\"Fuerte\"]],\n",
        "                columns = ['Cielo', 'Temperatura', 'Humedad', 'Viento'])\n",
        "\n",
        "y = np.array(['No', 'No', 'Si', 'Si', 'Si', 'No', 'Si', 'No', 'Si', 'Si', 'Si', 'Si', 'Si', 'No'])\n",
        "\n",
        "display(X)\n",
        "display(y)"
      ]
    },
    {
      "cell_type": "markdown",
      "metadata": {
        "id": "Ch4dqT-VMA71"
      },
      "source": [
        "Completar las funciones previas, entrenar y visualizar un Árbol de Decisión."
      ]
    },
    {
      "cell_type": "code",
      "execution_count": 44,
      "metadata": {
        "colab": {
          "base_uri": "https://localhost:8080/",
          "height": 122
        },
        "id": "DalZEj-rMA71",
        "outputId": "b8d75e5f-f55e-4dfe-9f9f-1da70373576b"
      },
      "outputs": [
        {
          "output_type": "stream",
          "name": "stdout",
          "text": [
            "Hoja: {'No': 5, 'Si': 9}\n"
          ]
        },
        {
          "output_type": "execute_result",
          "data": {
            "image/svg+xml": "<?xml version=\"1.0\" encoding=\"UTF-8\" standalone=\"no\"?>\n<!DOCTYPE svg PUBLIC \"-//W3C//DTD SVG 1.1//EN\"\n \"http://www.w3.org/Graphics/SVG/1.1/DTD/svg11.dtd\">\n<!-- Generated by graphviz version 2.43.0 (0)\n -->\n<!-- Title: %3 Pages: 1 -->\n<svg width=\"111pt\" height=\"62pt\"\n viewBox=\"0.00 0.00 111.00 62.00\" xmlns=\"http://www.w3.org/2000/svg\" xmlns:xlink=\"http://www.w3.org/1999/xlink\">\n<g id=\"graph0\" class=\"graph\" transform=\"scale(1 1) rotate(0) translate(4 58)\">\n<title>%3</title>\n<polygon fill=\"white\" stroke=\"transparent\" points=\"-4,4 -4,-58 107,-58 107,4 -4,4\"/>\n<!-- n -->\n<g id=\"node1\" class=\"node\">\n<title>n</title>\n<polygon fill=\"#029e39\" fill-opacity=\"0.501961\" stroke=\"black\" points=\"103,-54 0,-54 0,0 103,0 103,-54\"/>\n<text text-anchor=\"middle\" x=\"51.5\" y=\"-22.8\" font-family=\"Times,serif\" font-size=\"14.00\">n=14</text>\n<text text-anchor=\"middle\" x=\"51.5\" y=\"-7.8\" font-family=\"Times,serif\" font-size=\"14.00\">{&#39;No&#39;: 5, &#39;Si&#39;: 9}</text>\n</g>\n</g>\n</svg>\n",
            "text/plain": [
              "<graphviz.graphs.Digraph at 0x7fe925fac970>"
            ]
          },
          "metadata": {},
          "execution_count": 44
        }
      ],
      "source": [
        "arbol = Tree()\n",
        "arbol.fit(X, y)\n",
        "print(arbol)\n",
        "arbol.render()"
      ]
    },
    {
      "cell_type": "markdown",
      "metadata": {
        "id": "u-WCJ9i8MA72"
      },
      "source": [
        "Para evaluar instancias en el árbol podemos construirlas y evaluarlas de la siguiente manera:"
      ]
    },
    {
      "cell_type": "code",
      "execution_count": 45,
      "metadata": {
        "id": "OJWoKxDaMA73",
        "colab": {
          "base_uri": "https://localhost:8080/"
        },
        "outputId": "18d3169c-4cd9-4d8f-c29c-dcb99896321f"
      },
      "outputs": [
        {
          "output_type": "stream",
          "name": "stdout",
          "text": [
            "Para un día {'Cielo': 'Sol', 'Temperatura': 'Calor', 'Humedad': 'Alta', 'Viento': 'Debil'} obtuve Si\n",
            "Para un día {'Cielo': 'Nublado', 'Temperatura': 'Calor', 'Humedad': 'Alta', 'Viento': 'Debil'} obtuve Si\n"
          ]
        }
      ],
      "source": [
        "xs_nuevo = [{'Cielo': 'Sol', 'Temperatura': 'Calor', 'Humedad': 'Alta', 'Viento': 'Debil'},\n",
        "            {'Cielo': 'Nublado', 'Temperatura': 'Calor', 'Humedad': 'Alta', 'Viento': 'Debil'}]\n",
        "\n",
        "for instancia in xs_nuevo:\n",
        "    res = arbol.predict(instancia)\n",
        "    print(f\"Para un día {instancia} obtuve {res}\")"
      ]
    },
    {
      "cell_type": "markdown",
      "metadata": {
        "id": "wM0n2hFxMA73"
      },
      "source": [
        "¿Se obtuvieron los valores esperados? Explorar al menos 1 caso por cada rama del árbol."
      ]
    }
  ],
  "metadata": {
    "language_info": {
      "name": "python"
    },
    "colab": {
      "provenance": [],
      "include_colab_link": true
    },
    "kernelspec": {
      "name": "python3",
      "display_name": "Python 3"
    },
    "gpuClass": "standard"
  },
  "nbformat": 4,
  "nbformat_minor": 0
}